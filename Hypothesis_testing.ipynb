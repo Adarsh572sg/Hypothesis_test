{
  "nbformat": 4,
  "nbformat_minor": 0,
  "metadata": {
    "colab": {
      "private_outputs": true,
      "provenance": []
    },
    "kernelspec": {
      "name": "python3",
      "display_name": "Python 3"
    },
    "language_info": {
      "name": "python"
    }
  },
  "cells": [
    {
      "cell_type": "markdown",
      "source": [
        "# What is hypothesis testing"
      ],
      "metadata": {
        "id": "bKlDJ7cKY8D4"
      }
    },
    {
      "cell_type": "markdown",
      "source": [
        "Hypothesis testing in the context of machine learning often involves evaluating whether the observed performance of a model is statistically signficant or if difference performance between models are due to random chance."
      ],
      "metadata": {
        "id": "8-HrP-iTZGHG"
      }
    },
    {
      "cell_type": "markdown",
      "source": [
        "# Steps to Perform hypothesis testing"
      ],
      "metadata": {
        "id": "rsVlim0eZ8r-"
      }
    },
    {
      "cell_type": "markdown",
      "source": [
        "1. Define the hypothesis:\n",
        "\n",
        "      * Null Hypothesis (h0): There's no signiticant difference between the performances of two models.\n",
        "\n",
        "      * Alternative Hypothesis(h1): There is a significant difference between the performances of the two models."
      ],
      "metadata": {
        "id": "vXO6VwCLaHdn"
      }
    },
    {
      "cell_type": "markdown",
      "source": [
        "2. Select the test:\n",
        "  \n",
        "    * For comparing the means of model performance metrics (e.g.,accuracy)common tests include the t-test (for normally distributed data) or the `Wilcoxon signed rank test `(for non-normal distributions)."
      ],
      "metadata": {
        "id": "m7WsEatKa69P"
      }
    },
    {
      "cell_type": "markdown",
      "source": [
        "3. Calculate the Test Statistic:\n",
        "\n",
        "     * Use cross-validation to obtain performance scores (e.g.,accuracy) for the models.\n",
        "\n",
        "     * Apply the selected statistical test to compare the distributions of these scores."
      ],
      "metadata": {
        "id": "U6uhD0v_IxUj"
      }
    },
    {
      "cell_type": "markdown",
      "source": [
        "4. Interpret the Results:\n",
        "\n",
        "      * Compare the p_value to the significance level (e.g., 0.05) to decide whether to reject or fail to reject the null hypothesis."
      ],
      "metadata": {
        "id": "RZ8E6P_6J1_j"
      }
    },
    {
      "cell_type": "markdown",
      "source": [
        "STEP 1: Import libiaries and load data"
      ],
      "metadata": {
        "id": "p-VREVVXKeu8"
      }
    },
    {
      "cell_type": "code",
      "execution_count": null,
      "metadata": {
        "id": "fhvJkCBOYx4Z"
      },
      "outputs": [],
      "source": [
        "import numpy as np\n",
        "import pandas as pd\n",
        "import seaborn as sns\n",
        "from sklearn.model_selection import cross_val_score, train_test_split\n",
        "from sklearn.linear_model import LogisticRegression\n",
        "from sklearn.tree import DecisionTreeClassifier\n",
        "from scipy.stats import ttest_ind, wilcoxon\n",
        "\n",
        "# Load Titanic dataset\n",
        "df = sns.load_dataset('titanic')\n",
        "\n",
        "# Data preprocessing (simplified)\n",
        "df.drop(columns=['deck'], inplace=True)\n",
        "df['age'].fillna(df['age'].median(), inplace=True)\n",
        "df.dropna(subset=['embarked'], inplace=True)\n",
        "df['sex'] = df['sex'].astype('category')\n",
        "df['embarked'] = df['embarked'].astype('category')\n",
        "\n",
        "# Select features and target\n",
        "X = df[['age', 'fare', 'sibsp', 'parch']]\n",
        "y = df['survived']"
      ]
    },
    {
      "cell_type": "markdown",
      "source": [
        "Step 2: Train Two different models and perform  cross-validation"
      ],
      "metadata": {
        "id": "6ZRBJNgCMQm7"
      }
    },
    {
      "cell_type": "code",
      "source": [
        "from sklearn.preprocessing import StandardScaler\n",
        "from sklearn.pipeline import make_pipeline\n",
        "\n",
        "# define models\n",
        "logistic_model = make_pipeline(StandardScaler(),LogisticRegression())\n",
        "decision_tree_model= DecisionTreeClassifier()\n",
        "\n",
        "# Perform Cross-validation\n",
        "logistic_scores = cross_val_score(logistic_model,X,y,cv=10,scoring='accuracy')\n",
        "decision_tree_scores = cross_val_score(decision_tree_model,X,y,cv=10,scoring='accuracy')\n",
        "\n",
        "# Display cross-validation results\n",
        "print( f'Logistic Regression Mean Accuracy: {np.mean(logistic_scores): .4f}')\n",
        "print( f'Decision Tree Mean Accuracy: {np.mean(decision_tree_scores): .4f}')"
      ],
      "metadata": {
        "id": "zm-e75wCMhZD"
      },
      "execution_count": null,
      "outputs": []
    },
    {
      "cell_type": "code",
      "source": [
        "sns.kdeplot(logistic_scores)"
      ],
      "metadata": {
        "id": "VfmpN6XYnn71"
      },
      "execution_count": null,
      "outputs": []
    },
    {
      "cell_type": "code",
      "source": [
        "sns.kdeplot(decision_tree_scores)"
      ],
      "metadata": {
        "id": "Xp0F-ipPdeXx"
      },
      "execution_count": null,
      "outputs": []
    },
    {
      "cell_type": "markdown",
      "source": [
        "Step 3: Perform hypothesis testing"
      ],
      "metadata": {
        "id": "57IlUKkqeTjw"
      }
    },
    {
      "cell_type": "code",
      "source": [
        "# Perform independent t-test\n",
        "t_stat,p_value_ttest= ttest_ind(logistic_scores,decision_tree_scores)\n",
        "print(f\"T-test p-value: {p_value_ttest: .4f}\")"
      ],
      "metadata": {
        "id": "zMa68g-Ve5JX"
      },
      "execution_count": null,
      "outputs": []
    },
    {
      "cell_type": "markdown",
      "source": [
        "step 4 : Interpret the Results\n"
      ],
      "metadata": {
        "id": "GeS5qYNEgjy5"
      }
    },
    {
      "cell_type": "code",
      "source": [
        "alpha=0.05\n",
        "\n",
        "# Interpretation for t-test\n",
        "if p_value_ttest<alpha:\n",
        "  print(\"Reject the null hypothesis (t-test): There is a significant difference\")\n",
        "else:\n",
        "  print(\"Fail to reject the null hypothesis (t-test): No significant difference\")"
      ],
      "metadata": {
        "id": "fu4d5FfAfywg"
      },
      "execution_count": null,
      "outputs": []
    },
    {
      "cell_type": "code",
      "source": [],
      "metadata": {
        "id": "yY9EZS_jhUoY"
      },
      "execution_count": null,
      "outputs": []
    }
  ]
}